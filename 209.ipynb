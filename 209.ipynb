{
  "nbformat": 4,
  "nbformat_minor": 0,
  "metadata": {
    "colab": {
      "name": "209.ipynb",
      "provenance": []
    },
    "kernelspec": {
      "name": "python3",
      "display_name": "Python 3"
    }
  },
  "cells": [
    {
      "cell_type": "code",
      "metadata": {
        "id": "UIaATOxDiwZx",
        "colab_type": "code",
        "colab": {}
      },
      "source": [
        "from collections import Counter\n",
        "import sys\n",
        "import time\n",
        "import pandas as pd\n",
        "import tensorflow as tf\n",
        "import numpy as np\n",
        "from tensorflow.keras.callbacks import ModelCheckpoint, TensorBoard\n",
        "from tensorflow.keras.models import load_model"
      ],
      "execution_count": 0,
      "outputs": []
    },
    {
      "cell_type": "code",
      "metadata": {
        "id": "82Dez26Ti8D2",
        "colab_type": "code",
        "colab": {
          "resources": {
            "http://localhost:8080/nbextensions/google.colab/files.js": {
              "data": "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",
              "ok": true,
              "headers": [
                [
                  "content-type",
                  "application/javascript"
                ]
              ],
              "status": 200,
              "status_text": ""
            }
          },
          "base_uri": "https://localhost:8080/",
          "height": 71
        },
        "outputId": "f74f65d9-09f8-4922-a664-6f92494d9282"
      },
      "source": [
        "from google.colab import files\n",
        "uploaded = files.upload()"
      ],
      "execution_count": 58,
      "outputs": [
        {
          "output_type": "display_data",
          "data": {
            "text/html": [
              "\n",
              "     <input type=\"file\" id=\"files-673eb2cf-8eb5-48ca-ac40-b376ba26bc8a\" name=\"files[]\" multiple disabled />\n",
              "     <output id=\"result-673eb2cf-8eb5-48ca-ac40-b376ba26bc8a\">\n",
              "      Upload widget is only available when the cell has been executed in the\n",
              "      current browser session. Please rerun this cell to enable.\n",
              "      </output>\n",
              "      <script src=\"/nbextensions/google.colab/files.js\"></script> "
            ],
            "text/plain": [
              "<IPython.core.display.HTML object>"
            ]
          },
          "metadata": {
            "tags": []
          }
        },
        {
          "output_type": "stream",
          "text": [
            "Saving dataset.csv to dataset (2).csv\n"
          ],
          "name": "stdout"
        }
      ]
    },
    {
      "cell_type": "code",
      "metadata": {
        "id": "F9aXL6Aii8sY",
        "colab_type": "code",
        "colab": {}
      },
      "source": [
        "import io\n",
        "df = pd.read_csv(io.BytesIO(uploaded['dataset.csv']))"
      ],
      "execution_count": 0,
      "outputs": []
    },
    {
      "cell_type": "code",
      "metadata": {
        "id": "RyDqznS2jMQs",
        "colab_type": "code",
        "colab": {}
      },
      "source": [
        "df = df.drop(['Activity', 'Time', 'timestamp'], axis = 1) \n",
        "df = df[(df.T != 0).any()]\n",
        "df = df[(df == 1).sum(1) < 2]"
      ],
      "execution_count": 0,
      "outputs": []
    },
    {
      "cell_type": "code",
      "metadata": {
        "id": "T-2CPgjfkC_C",
        "colab_type": "code",
        "colab": {
          "base_uri": "https://localhost:8080/",
          "height": 359
        },
        "outputId": "051bbecb-d117-473e-8b84-eec73c671488"
      },
      "source": [
        "df_s = df\n",
        "df.head(10)"
      ],
      "execution_count": 161,
      "outputs": [
        {
          "output_type": "execute_result",
          "data": {
            "text/html": [
              "<div>\n",
              "<style scoped>\n",
              "    .dataframe tbody tr th:only-of-type {\n",
              "        vertical-align: middle;\n",
              "    }\n",
              "\n",
              "    .dataframe tbody tr th {\n",
              "        vertical-align: top;\n",
              "    }\n",
              "\n",
              "    .dataframe thead th {\n",
              "        text-align: right;\n",
              "    }\n",
              "</style>\n",
              "<table border=\"1\" class=\"dataframe\">\n",
              "  <thead>\n",
              "    <tr style=\"text-align: right;\">\n",
              "      <th></th>\n",
              "      <th>officeCarp</th>\n",
              "      <th>livingCarp</th>\n",
              "      <th>kitchenCarp</th>\n",
              "      <th>hallwayCarp</th>\n",
              "      <th>bedroomCarp</th>\n",
              "      <th>bathroomCarp</th>\n",
              "    </tr>\n",
              "  </thead>\n",
              "  <tbody>\n",
              "    <tr>\n",
              "      <th>0</th>\n",
              "      <td>0</td>\n",
              "      <td>0</td>\n",
              "      <td>0</td>\n",
              "      <td>0</td>\n",
              "      <td>1</td>\n",
              "      <td>0</td>\n",
              "    </tr>\n",
              "    <tr>\n",
              "      <th>2</th>\n",
              "      <td>0</td>\n",
              "      <td>0</td>\n",
              "      <td>0</td>\n",
              "      <td>0</td>\n",
              "      <td>0</td>\n",
              "      <td>1</td>\n",
              "    </tr>\n",
              "    <tr>\n",
              "      <th>4</th>\n",
              "      <td>0</td>\n",
              "      <td>0</td>\n",
              "      <td>0</td>\n",
              "      <td>0</td>\n",
              "      <td>1</td>\n",
              "      <td>0</td>\n",
              "    </tr>\n",
              "    <tr>\n",
              "      <th>6</th>\n",
              "      <td>0</td>\n",
              "      <td>0</td>\n",
              "      <td>0</td>\n",
              "      <td>1</td>\n",
              "      <td>0</td>\n",
              "      <td>0</td>\n",
              "    </tr>\n",
              "    <tr>\n",
              "      <th>7</th>\n",
              "      <td>0</td>\n",
              "      <td>0</td>\n",
              "      <td>1</td>\n",
              "      <td>0</td>\n",
              "      <td>0</td>\n",
              "      <td>0</td>\n",
              "    </tr>\n",
              "    <tr>\n",
              "      <th>9</th>\n",
              "      <td>0</td>\n",
              "      <td>0</td>\n",
              "      <td>1</td>\n",
              "      <td>0</td>\n",
              "      <td>0</td>\n",
              "      <td>0</td>\n",
              "    </tr>\n",
              "    <tr>\n",
              "      <th>10</th>\n",
              "      <td>0</td>\n",
              "      <td>0</td>\n",
              "      <td>0</td>\n",
              "      <td>1</td>\n",
              "      <td>0</td>\n",
              "      <td>0</td>\n",
              "    </tr>\n",
              "    <tr>\n",
              "      <th>12</th>\n",
              "      <td>0</td>\n",
              "      <td>1</td>\n",
              "      <td>0</td>\n",
              "      <td>0</td>\n",
              "      <td>0</td>\n",
              "      <td>0</td>\n",
              "    </tr>\n",
              "    <tr>\n",
              "      <th>14</th>\n",
              "      <td>0</td>\n",
              "      <td>1</td>\n",
              "      <td>0</td>\n",
              "      <td>0</td>\n",
              "      <td>0</td>\n",
              "      <td>0</td>\n",
              "    </tr>\n",
              "    <tr>\n",
              "      <th>15</th>\n",
              "      <td>0</td>\n",
              "      <td>0</td>\n",
              "      <td>0</td>\n",
              "      <td>1</td>\n",
              "      <td>0</td>\n",
              "      <td>0</td>\n",
              "    </tr>\n",
              "  </tbody>\n",
              "</table>\n",
              "</div>"
            ],
            "text/plain": [
              "    officeCarp  livingCarp  kitchenCarp  hallwayCarp  bedroomCarp  bathroomCarp\n",
              "0            0           0            0            0            1             0\n",
              "2            0           0            0            0            0             1\n",
              "4            0           0            0            0            1             0\n",
              "6            0           0            0            1            0             0\n",
              "7            0           0            1            0            0             0\n",
              "9            0           0            1            0            0             0\n",
              "10           0           0            0            1            0             0\n",
              "12           0           1            0            0            0             0\n",
              "14           0           1            0            0            0             0\n",
              "15           0           0            0            1            0             0"
            ]
          },
          "metadata": {
            "tags": []
          },
          "execution_count": 161
        }
      ]
    },
    {
      "cell_type": "code",
      "metadata": {
        "id": "tXUTYOlrwfRW",
        "colab_type": "code",
        "colab": {
          "base_uri": "https://localhost:8080/",
          "height": 54
        },
        "outputId": "a70977b1-6341-4205-bec6-395f411fc70a"
      },
      "source": [
        "X_raw = df_s.values\n",
        "X = []\n",
        "rows = X_raw.shape[0]\n",
        "cols = X_raw.shape[1]\n",
        "for x in range(0, rows):\n",
        "    for y in range(0, cols):\n",
        "        if X_raw[x,y] == 1:\n",
        "          X.append(y)\n",
        "print(X)"
      ],
      "execution_count": 162,
      "outputs": [
        {
          "output_type": "stream",
          "text": [
            "[4, 5, 4, 3, 2, 2, 3, 1, 1, 3, 5, 3, 0, 0, 0, 3, 5, 3, 3, 5, 3, 4, 3, 2, 2, 3, 1, 3, 2, 3, 1, 5, 3, 1, 3, 0, 3, 5, 3, 1, 1, 3, 2, 3, 5, 3, 0, 3, 1, 3, 4, 5, 4, 5, 4, 4, 5, 4, 5, 3, 2, 3, 3, 0, 3, 5, 3, 0, 3, 3, 5, 3, 1, 3, 3, 1, 3, 3, 5, 3, 1, 5, 3, 3, 4, 5, 4, 5, 3, 2, 3, 3, 0, 3, 5, 3, 0, 3, 3, 2, 3, 3, 5, 3, 4, 4, 5, 3, 5, 3, 4, 3, 2, 3, 0, 3, 3, 2, 3, 3, 5, 3, 4, 4, 5, 3, 2, 3, 0, 0, 3, 3, 2, 3, 3, 5, 3, 4, 4, 5, 3, 2, 3, 0, 0, 3, 3, 2, 3, 3, 5, 3, 4, 4, 5, 3, 2, 3, 4, 3, 1, 3, 3, 5, 3, 3, 0, 3, 3, 5, 3, 2, 3, 4, 4, 5, 4, 3, 2, 2, 3, 1, 1, 3, 5, 3, 0, 0, 0, 3, 5, 3, 3, 5, 3, 0, 3, 1, 1, 3, 5, 3, 2, 3, 4, 5, 3, 4, 4, 5, 4, 3, 2, 3, 0, 3, 3, 2, 3, 3, 5, 3, 4, 4, 5, 4, 5, 3, 2, 3, 3, 0, 3, 5, 3, 0, 3, 3, 5, 3, 2, 2, 3, 1, 3, 5, 3, 1, 1, 3, 0, 0, 3, 3, 4, 4, 5, 3, 2, 3, 1, 4, 5, 4, 4, 5, 3, 4, 3, 2, 3, 0, 3, 3, 0, 3, 5, 3, 4, 3, 2, 3, 1, 3, 2, 3, 1, 3, 5, 3, 0, 3, 5, 3, 4, 4, 5, 3, 5, 3, 4, 3, 2, 3, 0, 3, 3, 5, 3, 3, 2, 3, 0, 3, 1, 1, 0, 5, 1, 0, 3, 4, 5, 3, 4, 3, 2, 3, 0, 3, 3, 0, 3, 5, 3, 4, 3, 2, 3, 1, 3, 2, 3, 1, 3, 5, 3, 0, 3, 5, 3, 4, 4, 5, 3, 2, 3, 4, 3, 1, 3, 3, 5, 3, 3, 0, 3, 3, 5, 3, 2, 3, 4, 4, 5, 4, 3, 2, 2, 3, 1, 1, 3, 5, 3, 0, 0, 0, 3, 5, 3, 3, 5, 3, 0, 3, 1, 1, 3, 5, 3, 2, 3, 4, 5, 3, 4, 4, 5, 4, 3, 2, 3, 0, 3, 3, 5, 3, 3, 3, 3, 3, 1, 3, 3, 5, 3, 1, 3, 5, 3, 4, 4, 5, 3, 5, 3, 4, 3, 2, 3, 0, 3, 3, 5, 3, 2, 3, 0, 2, 3, 1, 1, 3, 5, 4, 5, 3, 4, 5, 3, 5, 3, 4, 3, 2, 3, 0, 3, 3, 0, 3, 5, 3, 4, 3, 2, 3, 1, 3, 2, 3, 1, 3, 5, 3, 0, 3, 5, 3, 4, 4, 5, 3, 5, 3, 4, 3, 2, 3, 0, 3, 3, 5, 3, 1, 3, 0, 3, 3, 1, 1, 3, 3, 3, 1, 5, 3, 4, 4, 5, 3, 5, 3, 4, 3, 2, 3, 0, 3, 3, 0, 3, 5, 3, 4, 3, 2, 3, 1, 3, 2, 3, 1, 3, 5, 3, 0, 3, 5, 3, 4, 4, 5, 3, 2, 3, 4, 3, 1, 3, 3, 5, 3, 3, 0, 3, 3, 5, 3, 0, 3, 1, 1, 3, 5, 3, 2, 3, 4, 5, 3, 4, 4, 5, 3, 2, 3, 4, 3, 1, 3, 3, 5, 3, 3, 0, 3, 3, 5, 3, 0, 3, 1, 1, 3, 5, 3, 2, 3, 4, 5, 3, 4, 4, 5, 3, 2, 3, 0, 0, 3, 3, 2, 3, 3, 5, 3, 4, 4, 5, 3, 4, 3, 2, 3, 0, 3, 3, 5, 3, 2, 3, 0, 2, 3, 1, 1, 3, 5, 4, 5, 3, 4, 5, 3, 4, 3, 2, 3, 0, 3, 3, 5, 3, 3, 3, 0, 0, 1, 3, 3, 3, 1, 3, 3, 4, 5, 4, 3, 2, 3, 0, 3, 3, 5, 3, 1, 2, 3, 0, 3, 1, 1, 0, 3, 1, 5, 3, 4, 5, 3, 5, 3, 4, 3, 2, 3, 0, 3, 3, 0, 3, 5, 3, 4, 3, 2, 3, 1, 3, 2, 3, 1, 3, 5, 3, 0, 3, 5, 3, 4, 4, 5, 3, 2, 3, 4, 3, 1, 3, 3, 5, 3, 3, 0, 3, 3, 5, 3, 4, 3, 2, 2, 3, 1, 3, 2, 3, 1, 5, 3, 1, 3, 0, 3, 5, 3, 1, 1, 3, 2, 3, 5, 3, 0, 3, 1, 3, 4, 5, 4, 5, 4, 4, 5, 3, 2, 3, 4, 3, 1, 3, 3, 5, 3, 3, 0, 3, 3, 5, 3, 0, 3, 1, 1, 3, 5, 3, 2, 3, 4, 5, 3, 4, 4, 5, 3, 2, 3, 0, 0, 3, 3, 5, 3, 1, 2, 3, 0, 3, 1, 3, 0, 5, 1, 3, 5, 0, 3, 4, 4, 5, 3, 4, 3, 2, 3, 0, 3, 3, 5, 3, 3, 3, 0, 0, 3, 1, 1, 0, 5, 3, 1, 5, 0, 3, 4]\n"
          ],
          "name": "stdout"
        }
      ]
    },
    {
      "cell_type": "code",
      "metadata": {
        "id": "ciCTLYjwBD7r",
        "colab_type": "code",
        "colab": {
          "base_uri": "https://localhost:8080/",
          "height": 54
        },
        "outputId": "a7b6d84b-eb18-4af1-be09-928101046d49"
      },
      "source": [
        "x0, x1, x2, x3, x4, x5 = [], [], [], [], [], []\n",
        "Xpair = [x0, x1, x2, x3, x4, x5]\n",
        "for i in range(len(X) - 1):\n",
        "  if(X[i] == 0):\n",
        "    Xpair[0].append(X[i+1])\n",
        "  elif(X[i] == 1):\n",
        "    Xpair[1].append(X[i+1])\n",
        "  elif(X[i] == 2):\n",
        "    Xpair[2].append(X[i+1])\n",
        "  elif(X[i] == 3):\n",
        "    Xpair[3].append(X[i+1])\n",
        "  elif(X[i] == 4):\n",
        "    Xpair[4].append(X[i+1])\n",
        "  elif(X[i] == 5):\n",
        "    Xpair[5].append(X[i+1])\n",
        "\n",
        "print(Xpair)"
      ],
      "execution_count": 163,
      "outputs": [
        {
          "output_type": "stream",
          "text": [
            "[[0, 0, 3, 3, 3, 3, 3, 3, 3, 3, 0, 3, 0, 3, 3, 0, 0, 3, 3, 3, 3, 3, 0, 3, 3, 3, 3, 3, 3, 5, 3, 3, 3, 3, 3, 0, 0, 3, 3, 3, 3, 2, 3, 3, 3, 3, 3, 3, 3, 3, 3, 3, 3, 3, 0, 3, 3, 2, 3, 0, 1, 3, 3, 3, 3, 3, 3, 3, 3, 3, 3, 3, 0, 3, 3, 5, 3, 3, 0, 3, 5, 3], [1, 3, 3, 5, 3, 1, 3, 3, 3, 3, 5, 3, 1, 3, 1, 3, 3, 1, 3, 4, 3, 3, 1, 0, 0, 3, 3, 3, 1, 3, 1, 3, 3, 3, 1, 3, 3, 3, 3, 1, 3, 5, 3, 3, 3, 1, 3, 3, 1, 3, 1, 3, 3, 3, 2, 1, 0, 5, 3, 3, 3, 3, 5, 3, 1, 3, 3, 3, 1, 3, 2, 3, 3, 1, 0, 5], [2, 3, 2, 3, 3, 3, 3, 3, 3, 3, 3, 3, 3, 3, 3, 3, 3, 2, 3, 3, 3, 3, 3, 2, 3, 3, 3, 3, 3, 3, 3, 3, 3, 3, 3, 3, 2, 3, 3, 3, 3, 3, 3, 3, 3, 3, 3, 3, 3, 3, 3, 3, 3, 3, 3, 3, 3, 3, 3, 3, 3, 3, 3, 3, 3, 3, 2, 3, 3, 3, 3, 3, 3, 3, 3], [2, 1, 5, 0, 5, 3, 5, 4, 2, 1, 2, 1, 1, 0, 5, 1, 2, 5, 0, 1, 4, 2, 3, 0, 5, 0, 3, 5, 1, 3, 1, 3, 5, 1, 3, 4, 2, 3, 0, 5, 0, 3, 2, 3, 5, 4, 5, 4, 2, 0, 3, 2, 3, 5, 4, 2, 0, 3, 2, 3, 5, 4, 2, 0, 3, 2, 3, 5, 4, 2, 4, 1, 3, 5, 3, 0, 3, 5, 2, 4, 2, 1, 5, 0, 5, 3, 5, 0, 1, 5, 2, 4, 4, 2, 0, 3, 2, 3, 5, 4, 2, 3, 0, 5, 0, 3, 5, 2, 1, 5, 1, 0, 3, 4, 2, 1, 4, 2, 0, 3, 0, 5, 4, 2, 1, 2, 1, 5, 0, 5, 4, 5, 4, 2, 0, 3, 5, 3, 2, 0, 1, 4, 4, 2, 0, 3, 0, 5, 4, 2, 1, 2, 1, 5, 0, 5, 4, 2, 4, 1, 3, 5, 3, 0, 3, 5, 2, 4, 2, 1, 5, 0, 5, 3, 5, 0, 1, 5, 2, 4, 4, 2, 0, 3, 5, 3, 3, 3, 3, 1, 3, 5, 1, 5, 4, 5, 4, 2, 0, 3, 5, 2, 0, 1, 5, 4, 5, 4, 2, 0, 3, 0, 5, 4, 2, 1, 2, 1, 5, 0, 5, 4, 5, 4, 2, 0, 3, 5, 1, 0, 3, 1, 3, 3, 1, 4, 5, 4, 2, 0, 3, 0, 5, 4, 2, 1, 2, 1, 5, 0, 5, 4, 2, 4, 1, 3, 5, 3, 0, 3, 5, 0, 1, 5, 2, 4, 4, 2, 4, 1, 3, 5, 3, 0, 3, 5, 0, 1, 5, 2, 4, 4, 2, 0, 3, 2, 3, 5, 4, 4, 2, 0, 3, 5, 2, 0, 1, 5, 4, 4, 2, 0, 3, 5, 3, 3, 0, 3, 3, 1, 3, 4, 2, 0, 3, 5, 1, 0, 1, 1, 4, 5, 4, 2, 0, 3, 0, 5, 4, 2, 1, 2, 1, 5, 0, 5, 4, 2, 4, 1, 3, 5, 3, 0, 3, 5, 4, 2, 1, 2, 1, 1, 0, 5, 1, 2, 5, 0, 1, 4, 2, 4, 1, 3, 5, 3, 0, 3, 5, 0, 1, 5, 2, 4, 4, 2, 0, 3, 5, 1, 0, 1, 0, 5, 4, 4, 2, 0, 3, 5, 3, 3, 0, 1, 1, 4], [5, 3, 3, 5, 5, 4, 5, 5, 5, 5, 4, 5, 3, 4, 5, 4, 5, 4, 5, 3, 4, 5, 3, 5, 4, 5, 3, 4, 5, 5, 4, 5, 5, 4, 5, 3, 3, 4, 5, 3, 5, 3, 3, 4, 5, 3, 4, 5, 3, 5, 4, 5, 3, 4, 5, 3, 5, 5, 3, 3, 4, 5, 3, 4, 5, 3, 3, 4, 5, 3, 5, 4, 5, 3, 5, 4, 5, 4, 5, 3, 5, 5, 3, 5, 3, 5, 3, 3, 4, 5, 3, 3, 5, 5, 4, 5, 3, 5, 4, 5, 4, 5, 3], [4, 3, 3, 3, 3, 3, 3, 4, 4, 4, 3, 3, 3, 3, 3, 4, 3, 3, 3, 3, 3, 3, 3, 3, 3, 3, 3, 3, 3, 4, 3, 3, 3, 3, 3, 4, 3, 4, 3, 3, 3, 3, 3, 4, 3, 3, 3, 3, 3, 3, 3, 1, 3, 3, 3, 3, 3, 3, 3, 4, 3, 3, 3, 3, 3, 4, 3, 3, 3, 3, 3, 3, 4, 3, 3, 3, 3, 3, 3, 3, 3, 3, 3, 3, 3, 3, 3, 3, 3, 3, 3, 3, 3, 3, 3, 3, 3, 3, 3, 3, 3, 3, 4, 3, 3, 3, 4, 3, 3, 3, 3, 3, 3, 3, 3, 3, 3, 3, 3, 3, 4, 4, 3, 3, 3, 3, 3, 3, 3, 1, 0, 3, 3, 3, 0]]\n"
          ],
          "name": "stdout"
        }
      ]
    },
    {
      "cell_type": "code",
      "metadata": {
        "id": "3SUp61tyBDqB",
        "colab_type": "code",
        "colab": {
          "base_uri": "https://localhost:8080/",
          "height": 119
        },
        "outputId": "f54c7edc-b504-427e-e6ba-9945b34ce3c8"
      },
      "source": [
        "x0, x1, x2, x3, x4, x5 = [], [], [], [], [], []\n",
        "tX = [x0, x1, x2, x3, x4, x5]\n",
        "\n",
        "for j in range(6):\n",
        "  c0, c1, c2, c3, c4, c5 = 0,0,0,0,0,0\n",
        "  for i in range(len(Xpair[j])):\n",
        "    if(Xpair[j][i] == 0):\n",
        "      c0 = c0 + 1\n",
        "    elif(Xpair[j][i] == 1):\n",
        "      c1 = c1 + 1\n",
        "    elif(Xpair[j][i] == 2):\n",
        "      c2 = c2 + 1\n",
        "    elif(Xpair[j][i] == 3):\n",
        "      c3 = c3 + 1\n",
        "    elif(Xpair[j][i] == 4):\n",
        "      c4 = c4 + 1\n",
        "    elif(Xpair[j][i] == 5):\n",
        "      c5 = c5 + 1\n",
        "\n",
        "  cnt = [c0, c1, c2, c3, c4, c5]\n",
        "  tot = len(Xpair[j])\n",
        "  \n",
        "  for i in range(6):\n",
        "    if(tot > 0):\n",
        "      tX[j].append(round(cnt[i]/tot, 2))\n",
        "  print(tX[j])"
      ],
      "execution_count": 164,
      "outputs": [
        {
          "output_type": "stream",
          "text": [
            "[0.16, 0.01, 0.02, 0.77, 0.0, 0.04]\n",
            "[0.05, 0.22, 0.03, 0.61, 0.01, 0.08]\n",
            "[0.0, 0.0, 0.08, 0.92, 0.0, 0.0]\n",
            "[0.16, 0.14, 0.16, 0.18, 0.15, 0.2]\n",
            "[0.0, 0.0, 0.0, 0.3, 0.24, 0.46]\n",
            "[0.01, 0.01, 0.0, 0.85, 0.12, 0.0]\n"
          ],
          "name": "stdout"
        }
      ]
    },
    {
      "cell_type": "code",
      "metadata": {
        "id": "BzdoBWNh0Sah",
        "colab_type": "code",
        "colab": {
          "base_uri": "https://localhost:8080/",
          "height": 54
        },
        "outputId": "c6568f22-439c-4dc9-c3a4-0c1819c26278"
      },
      "source": [
        "fin_t = [\n",
        "[0.16, 0.01, 0.02, 0.77, 0.0, 0.04],\n",
        "[0.05, 0.22, 0.03, 0.61, 0.01, 0.08],\n",
        "[0.0, 0.0, 0.08, 0.92, 0.0, 0.0],\n",
        "[0.16, 0.14, 0.16, 0.19, 0.15, 0.2],\n",
        "[0.0, 0.0, 0.0, 0.3, 0.24, 0.46],\n",
        "[0.01, 0.01, 0.0, 0.86, 0.12, 0.0],\n",
        "]\n",
        "\n",
        "print(fin_t)"
      ],
      "execution_count": 165,
      "outputs": [
        {
          "output_type": "stream",
          "text": [
            "[[0.16, 0.01, 0.02, 0.77, 0.0, 0.04], [0.05, 0.22, 0.03, 0.61, 0.01, 0.08], [0.0, 0.0, 0.08, 0.92, 0.0, 0.0], [0.16, 0.14, 0.16, 0.19, 0.15, 0.2], [0.0, 0.0, 0.0, 0.3, 0.24, 0.46], [0.01, 0.01, 0.0, 0.86, 0.12, 0.0]]\n"
          ],
          "name": "stdout"
        }
      ]
    },
    {
      "cell_type": "code",
      "metadata": {
        "id": "uPwIYj7E0TGz",
        "colab_type": "code",
        "colab": {
          "base_uri": "https://localhost:8080/",
          "height": 119
        },
        "outputId": "c8536e8a-90f4-4f8a-92f3-f0b3ce5595db"
      },
      "source": [
        "npa = np.asarray(fin_t, dtype=np.float32)\n",
        "two_step = npa.dot(npa)\n",
        "two_step = np.round(two_step, 4)\n",
        "print(two_step)"
      ],
      "execution_count": 171,
      "outputs": [
        {
          "output_type": "stream",
          "text": [
            "[[0.1497 0.112  0.1283 0.3284 0.1204 0.1612]\n",
            " [0.1174 0.1351 0.1076 0.388  0.1057 0.1462]\n",
            " [0.1472 0.1288 0.1536 0.2484 0.138  0.184 ]\n",
            " [0.065  0.061  0.0506 0.6089 0.0899 0.1246]\n",
            " [0.0526 0.0466 0.048  0.5246 0.1578 0.1704]\n",
            " [0.1397 0.1227 0.1381 0.2132 0.1579 0.2284]]\n"
          ],
          "name": "stdout"
        }
      ]
    }
  ]
}